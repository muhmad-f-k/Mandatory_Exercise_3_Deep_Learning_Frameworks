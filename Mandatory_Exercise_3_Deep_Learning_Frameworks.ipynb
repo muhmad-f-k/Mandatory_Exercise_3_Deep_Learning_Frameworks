{
  "nbformat": 4,
  "nbformat_minor": 0,
  "metadata": {
    "colab": {
      "provenance": []
    },
    "kernelspec": {
      "name": "python3",
      "display_name": "Python 3"
    },
    "language_info": {
      "name": "python"
    }
  },
  "cells": [
    {
      "cell_type": "markdown",
      "source": [
        "**The code structure**\n",
        "1. Read and clean the data\n",
        "2. Normalize the data/scale the data\n",
        "3. Define/build the network\n",
        "4. Compile the network\n",
        "5. Fit the network\n",
        "6. Evaluate the netowrk\n",
        "7. Make predictions"
      ],
      "metadata": {
        "id": "-ohD5_HlQlEY"
      }
    },
    {
      "cell_type": "markdown",
      "source": [
        "Read and clean the data"
      ],
      "metadata": {
        "id": "xVuNAUdumi52"
      }
    },
    {
      "cell_type": "code",
      "source": [
        "import pandas as pd\n",
        "import numpy as np\n",
        "import tensorflow as tf\n",
        "import matplotlib.pyplot as plt\n",
        "import os\n",
        "import cv2\n",
        "import warnings\n",
        "warnings.filterwarnings('ignore')\n",
        "ds = pd.read_csv('drive/MyDrive/Colab/dataset/MNIST_dataset.csv')\n",
        "y = ds.pop('labels') # Getting the labels from dataset\n",
        "x = ds.values.reshape(-1, 28, 28) # reshape the data to 28*28 = 784\n",
        "plt.imshow(x[1], cmap=plt.cm.binary)\n",
        "plt.show()"
      ],
      "metadata": {
        "colab": {
          "base_uri": "https://localhost:8080/",
          "height": 265
        },
        "id": "hsSWXtxwQuYy",
        "outputId": "cc8a8ab5-ab7b-4f8a-f95b-5f1d9fe860fd"
      },
      "execution_count": null,
      "outputs": [
        {
          "output_type": "display_data",
          "data": {
            "text/plain": [
              "<Figure size 432x288 with 1 Axes>"
            ],
            "image/png": "[encoded data removed]"
          },
          "metadata": {
            "needs_background": "light"
          }
        }
      ]
    },
    {
      "cell_type": "markdown",
      "source": [
        "Normalize the data/scale the data"
      ],
      "metadata": {
        "id": "vgGWOKkjmqL5"
      }
    },
    {
      "cell_type": "code",
      "source": [
        "#X and Y train from index 0 to 160 around 80%\n",
        "X_train =x[0:160]\n",
        "Y_train =y[0:160]\n",
        "\n",
        "#X and Y test from index 161 to 199 wich around 10%\n",
        "X_test = x[161:181]\n",
        "Y_test= y[161:181]\n",
        "\n",
        "#X and Y Valid from index 182 to 199 wich around 10%\n",
        "X_val = x[161:199]\n",
        "Y_val= y[161:199]\n",
        "#Normalize the data - to beetwen 0 and 1\n",
        "X_train = tf.keras.utils.normalize(X_train, axis=1)\n",
        "X_test = tf.keras.utils.normalize(X_test, axis=1)\n",
        "X_val = tf.keras.utils.normalize(X_val, axis=1)"
      ],
      "metadata": {
        "id": "UQ9y0eKHmdY4"
      },
      "execution_count": null,
      "outputs": []
    },
    {
      "cell_type": "code",
      "source": [
        "plt.imshow(X_train[1], cmap=plt.cm.binary)\n",
        "plt.show()"
      ],
      "metadata": {
        "colab": {
          "base_uri": "https://localhost:8080/",
          "height": 265
        },
        "id": "2av4jSasnD2O",
        "outputId": "4a601f36-7e0d-4c76-ace0-70cdd6526da0"
      },
      "execution_count": null,
      "outputs": [
        {
          "output_type": "display_data",
          "data": {
            "text/plain": [
              "<Figure size 432x288 with 1 Axes>"
            ],
            "image/png": "[encoded data removed]"
          },
          "metadata": {
            "needs_background": "light"
          }
        }
      ]
    },
    {
      "cell_type": "markdown",
      "source": [
        "Define/build the network"
      ],
      "metadata": {
        "id": "auEAVKJ4nxYV"
      }
    },
    {
      "cell_type": "code",
      "source": [
        "#Using the Sequential model\n",
        "model = tf.keras.models.Sequential()\n",
        "#Input layer and flatt the layer\n",
        "model.add(tf.keras.layers.Flatten(input_shape=(28,28)))\n",
        "#Hidden layer - And added activation relu\n",
        "model.add(tf.keras.layers.Dense(128, activation=tf.nn.relu))\n",
        "#Dropout layer to help prevent overfitting\n",
        "model.add(tf.keras.layers.Dropout(0.2))\n",
        "#Output layer - number of classification 0-9 wich is 10\n",
        "model.add(tf.keras.layers.Dense(10, activation=tf.nn.softmax))\n"
      ],
      "metadata": {
        "id": "KZo_UGKsnEdn"
      },
      "execution_count": null,
      "outputs": []
    },
    {
      "cell_type": "markdown",
      "source": [
        "Compile the network"
      ],
      "metadata": {
        "id": "Eo_Jncw4o7sI"
      }
    },
    {
      "cell_type": "code",
      "source": [
        "#Define the paramter to the traning model \n",
        "#Adam optimizer to update network weights iterative based in training data\n",
        "#Loss sparse_categorical_crossentropy to produces a category index of the most likely matching category\n",
        "#The goal is the network always to minimize the loss and not optimize the accuracy\n",
        "#The metrics I want to track is the accuracy\n",
        "#opt = tf.keras.optimizers.SGD(lr=0.01)\n",
        "model.compile(loss='sparse_categorical_crossentropy', optimizer=\"adam\", metrics=['accuracy'])"
      ],
      "metadata": {
        "id": "BUbiy0nMo5qO"
      },
      "execution_count": null,
      "outputs": []
    },
    {
      "cell_type": "markdown",
      "source": [
        "Fit the network"
      ],
      "metadata": {
        "id": "fBzhBbG9rD6O"
      }
    },
    {
      "cell_type": "code",
      "source": [
        "#Now train the model\n",
        "model.fit(X_train, Y_train, epochs=20, validation_data=(X_val, Y_val))"
      ],
      "metadata": {
        "colab": {
          "base_uri": "https://localhost:8080/"
        },
        "id": "mrt5FxPBrDND",
        "outputId": "1ea63a96-b53f-4d91-f043-33610c18c03c"
      },
      "execution_count": null,
      "outputs": [
        {
          "output_type": "stream",
          "name": "stdout",
          "text": [
            "Epoch 1/20\n",
            "5/5 [==============================] - 0s 35ms/step - loss: 2.2595 - accuracy: 0.1750 - val_loss: 2.2243 - val_accuracy: 0.1579\n",
            "Epoch 2/20\n",
            "5/5 [==============================] - 0s 8ms/step - loss: 2.0219 - accuracy: 0.5000 - val_loss: 2.1028 - val_accuracy: 0.4474\n",
            "Epoch 3/20\n",
            "5/5 [==============================] - 0s 9ms/step - loss: 1.7860 - accuracy: 0.6875 - val_loss: 1.9665 - val_accuracy: 0.5789\n",
            "Epoch 4/20\n",
            "5/5 [==============================] - 0s 8ms/step - loss: 1.5603 - accuracy: 0.8375 - val_loss: 1.8164 - val_accuracy: 0.6579\n",
            "Epoch 5/20\n",
            "5/5 [==============================] - 0s 8ms/step - loss: 1.3561 - accuracy: 0.8062 - val_loss: 1.6595 - val_accuracy: 0.6842\n",
            "Epoch 6/20\n",
            "5/5 [==============================] - 0s 11ms/step - loss: 1.1529 - accuracy: 0.8687 - val_loss: 1.5058 - val_accuracy: 0.6842\n",
            "Epoch 7/20\n",
            "5/5 [==============================] - 0s 10ms/step - loss: 0.9971 - accuracy: 0.8750 - val_loss: 1.3643 - val_accuracy: 0.7105\n",
            "Epoch 8/20\n",
            "5/5 [==============================] - 0s 7ms/step - loss: 0.8580 - accuracy: 0.8813 - val_loss: 1.2573 - val_accuracy: 0.6842\n",
            "Epoch 9/20\n",
            "5/5 [==============================] - 0s 8ms/step - loss: 0.7116 - accuracy: 0.9438 - val_loss: 1.1548 - val_accuracy: 0.6842\n",
            "Epoch 10/20\n",
            "5/5 [==============================] - 0s 7ms/step - loss: 0.6185 - accuracy: 0.9563 - val_loss: 1.0589 - val_accuracy: 0.6842\n",
            "Epoch 11/20\n",
            "5/5 [==============================] - 0s 7ms/step - loss: 0.5188 - accuracy: 0.9563 - val_loss: 0.9880 - val_accuracy: 0.6579\n",
            "Epoch 12/20\n",
            "5/5 [==============================] - 0s 7ms/step - loss: 0.4348 - accuracy: 0.9625 - val_loss: 0.9283 - val_accuracy: 0.6842\n",
            "Epoch 13/20\n",
            "5/5 [==============================] - 0s 7ms/step - loss: 0.3990 - accuracy: 0.9750 - val_loss: 0.8707 - val_accuracy: 0.7368\n",
            "Epoch 14/20\n",
            "5/5 [==============================] - 0s 7ms/step - loss: 0.3122 - accuracy: 0.9937 - val_loss: 0.8337 - val_accuracy: 0.7632\n",
            "Epoch 15/20\n",
            "5/5 [==============================] - 0s 8ms/step - loss: 0.2858 - accuracy: 0.9750 - val_loss: 0.8042 - val_accuracy: 0.7632\n",
            "Epoch 16/20\n",
            "5/5 [==============================] - 0s 12ms/step - loss: 0.2707 - accuracy: 0.9812 - val_loss: 0.7769 - val_accuracy: 0.7632\n",
            "Epoch 17/20\n",
            "5/5 [==============================] - 0s 7ms/step - loss: 0.2202 - accuracy: 0.9937 - val_loss: 0.7538 - val_accuracy: 0.7632\n",
            "Epoch 18/20\n",
            "5/5 [==============================] - 0s 7ms/step - loss: 0.2048 - accuracy: 0.9937 - val_loss: 0.7374 - val_accuracy: 0.7895\n",
            "Epoch 19/20\n",
            "5/5 [==============================] - 0s 11ms/step - loss: 0.1953 - accuracy: 0.9937 - val_loss: 0.7225 - val_accuracy: 0.7895\n",
            "Epoch 20/20\n",
            "5/5 [==============================] - 0s 9ms/step - loss: 0.1521 - accuracy: 1.0000 - val_loss: 0.7044 - val_accuracy: 0.8158\n"
          ]
        },
        {
          "output_type": "execute_result",
          "data": {
            "text/plain": [
              "<keras.callbacks.History at 0x7f03fbb70f90>"
            ]
          },
          "metadata": {},
          "execution_count": 264
        }
      ]
    },
    {
      "cell_type": "markdown",
      "source": [
        "Evaluate the netowrk"
      ],
      "metadata": {
        "id": "yBy5sDhur4Gx"
      }
    },
    {
      "cell_type": "code",
      "source": [
        "#Now Evaluate the model with test data so compare the data to the Train data\n",
        "val_loss, val_accuracy = model.evaluate(X_test, Y_test)\n",
        "print(\"val_loss\", val_loss)\n",
        "print(\"val_accuracy\", val_accuracy)"
      ],
      "metadata": {
        "colab": {
          "base_uri": "https://localhost:8080/"
        },
        "id": "wqoYpeRireEL",
        "outputId": "3f6b4d00-7172-4e06-9e20-e8112df72217"
      },
      "execution_count": null,
      "outputs": [
        {
          "output_type": "stream",
          "name": "stdout",
          "text": [
            "1/1 [==============================] - 0s 16ms/step - loss: 0.6969 - accuracy: 0.8500\n",
            "val_loss 0.6968828439712524\n",
            "val_accuracy 0.8500000238418579\n"
          ]
        }
      ]
    },
    {
      "cell_type": "markdown",
      "source": [
        "Make predictions"
      ],
      "metadata": {
        "id": "vdkidECYvZP7"
      }
    },
    {
      "cell_type": "code",
      "source": [
        "#Now using  model predict and argmax from numpy to get the predicted numbers\n",
        "predictions = model.predict([X_test])\n",
        "\n",
        "Index_0 = np.argmax(predictions[8])\n",
        "print(Index_0)"
      ],
      "metadata": {
        "colab": {
          "base_uri": "https://localhost:8080/"
        },
        "id": "UpXSikv3uWwg",
        "outputId": "6aba16fd-ea40-4320-a037-f435ecce6cb0"
      },
      "execution_count": null,
      "outputs": [
        {
          "output_type": "stream",
          "name": "stdout",
          "text": [
            "4\n"
          ]
        }
      ]
    },
    {
      "cell_type": "code",
      "source": [
        "plt.imshow(X_test[8])\n",
        "plt.show()\n"
      ],
      "metadata": {
        "colab": {
          "base_uri": "https://localhost:8080/",
          "height": 265
        },
        "id": "I8UU0-2YxZ_5",
        "outputId": "534d09e4-0e8d-4843-ae30-053cb1893df0"
      },
      "execution_count": null,
      "outputs": [
        {
          "output_type": "display_data",
          "data": {
            "text/plain": [
              "<Figure size 432x288 with 1 Axes>"
            ],
            "image/png": "[encoded data removed]"
          },
          "metadata": {
            "needs_background": "light"
          }
        }
      ]
    },
    {
      "cell_type": "markdown",
      "source": [
        "# So I have tested different param. \n",
        "1. divided data to train and test 80% - 20% with ADAM \n",
        "\n",
        "\n",
        "Train \n",
        "loss: 0.4706 - accuracy: 0.9688\n",
        "\n",
        "Test\n",
        "loss: 0.9638 - accuracy: 0.7368\n",
        "\n",
        "\n",
        "2. divided data to train and test 60% - 40%\n",
        "\n",
        "Train \n",
        "loss 0.6233 - accuracy: 0.9500\n",
        "\n",
        "Test\n",
        "loss: 1.1352 - accuracy: 0.7692\n",
        "\n",
        "\n",
        "3. divided data to train and test 80% - 20% with SGD \n",
        "\n",
        "\n",
        "Train \n",
        "loss: 1.1844 - accuracy: 0.8687\n",
        "\n",
        "Test\n",
        "loss: 1.5346 - accuracy: 0.6579\n",
        "\n",
        "\n",
        "4. divided data to train and test 60% - 40%\n",
        "\n",
        "Train \n",
        "1.2700 - accuracy: 0.8917\n",
        "\n",
        "Test\n",
        "loss: 1.6855 - accuracy: 0.6282\n",
        "\n",
        "So in the end i Added Dropout layer to help with prevent overfitting and the result got worrest with adam optimizers. I even tried different learning rate with SGD and result get worrest.\n",
        "\n",
        "so now I have the result with adam at 80-20% with dropout layer\n",
        "\n",
        "\n",
        "Train data\n",
        "\n",
        "loss: 0.5786 - accuracy: 0.9375\n",
        "\n",
        "\n",
        "test data\n",
        "\n",
        "loss: 1.0661 - accuracy: 0.7105\n",
        "\n",
        "\n",
        "#conclusion. \n",
        "Im somehow overfitting my model and cant find why, the best result I got is with optimizers adam and data divived at 80% train and 20% test with adam optimizers\n",
        "\n",
        "#Update!\n",
        "I found out that i forgot super importend part Train/val/test so I forgot the part of val data now.\n",
        "I divided the data to 80 % train, 10% train and 10% val.\n",
        "\n",
        "Result look much better now both train and Evaluate close to each other wich predic that model not overfiting\n",
        "\n",
        "\n",
        "#train result \n",
        "accuracy: 0.1750 - val_loss: 2.2243 - val_accuracy: 0.1579\n",
        "\n",
        "#test result\n",
        "loss: 0.6969 - accuracy: 0.8500\n",
        "\n",
        "\n",
        "\n",
        "\n",
        "\n",
        "\n"
      ],
      "metadata": {
        "id": "6t2WxLMB4c08"
      }
    }
  ]
}